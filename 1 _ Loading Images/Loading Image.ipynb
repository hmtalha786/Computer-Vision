{
 "cells": [
  {
   "cell_type": "code",
   "execution_count": 1,
   "id": "44aa1db6",
   "metadata": {},
   "outputs": [],
   "source": [
    "import cv2"
   ]
  },
  {
   "cell_type": "code",
   "execution_count": 2,
   "id": "76fe2e1a",
   "metadata": {},
   "outputs": [],
   "source": [
    "image = cv2.imread(\"red_panda.jpg\")"
   ]
  },
  {
   "cell_type": "code",
   "execution_count": 3,
   "id": "2e8a673d",
   "metadata": {},
   "outputs": [],
   "source": [
    "gray_image = cv2.cvtColor(image, cv2.COLOR_BGR2GRAY)"
   ]
  },
  {
   "cell_type": "code",
   "execution_count": 4,
   "id": "eb01846a",
   "metadata": {},
   "outputs": [],
   "source": [
    "cv2.imshow(\"Gray panda\", gray_image)\n",
    "cv2.imshow(\"Red panda\", image)"
   ]
  },
  {
   "cell_type": "code",
   "execution_count": 5,
   "id": "d65ba4ab",
   "metadata": {},
   "outputs": [],
   "source": [
    "cv2.waitKey(0)\n",
    "cv2.destroyAllWindows()"
   ]
  }
 ],
 "metadata": {
  "kernelspec": {
   "display_name": "Python 3 (ipykernel)",
   "language": "python",
   "name": "python3"
  },
  "language_info": {
   "codemirror_mode": {
    "name": "ipython",
    "version": 3
   },
   "file_extension": ".py",
   "mimetype": "text/x-python",
   "name": "python",
   "nbconvert_exporter": "python",
   "pygments_lexer": "ipython3",
   "version": "3.9.7"
  }
 },
 "nbformat": 4,
 "nbformat_minor": 5
}
