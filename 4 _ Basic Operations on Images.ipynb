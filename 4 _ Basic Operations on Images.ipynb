{
 "cells": [
  {
   "cell_type": "code",
   "execution_count": 1,
   "id": "7828f867",
   "metadata": {},
   "outputs": [],
   "source": [
    "import cv2\n",
    "import numpy as np"
   ]
  },
  {
   "cell_type": "code",
   "execution_count": 2,
   "id": "56e082b4",
   "metadata": {},
   "outputs": [],
   "source": [
    "image = cv2.imread(\"red_panda.jpg\")\n",
    "rows, cols, ch = image.shape"
   ]
  },
  {
   "cell_type": "code",
   "execution_count": 3,
   "id": "4090b4f1",
   "metadata": {},
   "outputs": [],
   "source": [
    "# Region of Interest\n",
    "roi = image[100: 280, 150: 320]"
   ]
  },
  {
   "cell_type": "code",
   "execution_count": 4,
   "id": "ecbfa559",
   "metadata": {},
   "outputs": [
    {
     "name": "stdout",
     "output_type": "stream",
     "text": [
      "[ 41  77 155]\n"
     ]
    }
   ],
   "source": [
    "# Print a specific pixel of the image\n",
    "# We're printing the value in the position 175, 300 \n",
    "print(image[175, 300])\n",
    "# Change the value of a pixe\n",
    "# We are going to assign a new value\n",
    "image[250, 180] = (255, 0, 0)"
   ]
  },
  {
   "cell_type": "code",
   "execution_count": 5,
   "id": "89a5c9a1",
   "metadata": {},
   "outputs": [],
   "source": [
    "cv2.imshow(\"Panda\", image)\n",
    "cv2.imshow(\"Roi\", roi)\n",
    "cv2.waitKey(0)\n",
    "cv2.destroyAllWindows()"
   ]
  }
 ],
 "metadata": {
  "kernelspec": {
   "display_name": "Python 3 (ipykernel)",
   "language": "python",
   "name": "python3"
  },
  "language_info": {
   "codemirror_mode": {
    "name": "ipython",
    "version": 3
   },
   "file_extension": ".py",
   "mimetype": "text/x-python",
   "name": "python",
   "nbconvert_exporter": "python",
   "pygments_lexer": "ipython3",
   "version": "3.9.7"
  }
 },
 "nbformat": 4,
 "nbformat_minor": 5
}
