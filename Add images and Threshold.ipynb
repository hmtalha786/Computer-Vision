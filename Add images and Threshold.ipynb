{
 "cells": [
  {
   "cell_type": "code",
   "execution_count": 1,
   "id": "af543916",
   "metadata": {},
   "outputs": [],
   "source": [
    "import cv2\n",
    "import numpy as np"
   ]
  },
  {
   "cell_type": "code",
   "execution_count": 2,
   "id": "a82f3151",
   "metadata": {},
   "outputs": [],
   "source": [
    "img1 = cv2.imread(\"road.jpg\")\n",
    "img2 = cv2.imread(\"car.jpg\")"
   ]
  },
  {
   "cell_type": "code",
   "execution_count": 3,
   "id": "651bcaa7",
   "metadata": {},
   "outputs": [],
   "source": [
    "# Show original images\n",
    "cv2.imshow(\"Road\", img1)\n",
    "cv2.imshow(\"Car\", img2)\n",
    "\n",
    "# Add Images Pixel to Pixel\n",
    "Sum = cv2.add(img1, img2)\n",
    "cv2.imshow(\"Combine Images\", Sum)\n",
    "\n",
    "# Weighted Image\n",
    "weighted = cv2.addWeighted(img1, 0.3, img2, 0.7, 0)\n",
    "cv2.imshow(\"Weighted Images\", weighted)\n",
    "\n",
    "# Gray Scale Image and its threshold\n",
    "gray_car = cv2.cvtColor(img2, cv2.COLOR_BGR2GRAY)\n",
    "cv2.imshow(\"Gray Car\", gray_car)\n",
    "\n",
    "# Gray Scale image threshold\n",
    "ret, threshold = cv2.threshold(gray_car, 100, 255, cv2.THRESH_BINARY)\n",
    "cv2.imshow(\"Threshold Image\", threshold)\n",
    "\n",
    "cv2.waitKey(0)\n",
    "cv2.destroyAllWindows()"
   ]
  }
 ],
 "metadata": {
  "kernelspec": {
   "display_name": "Python 3 (ipykernel)",
   "language": "python",
   "name": "python3"
  },
  "language_info": {
   "codemirror_mode": {
    "name": "ipython",
    "version": 3
   },
   "file_extension": ".py",
   "mimetype": "text/x-python",
   "name": "python",
   "nbconvert_exporter": "python",
   "pygments_lexer": "ipython3",
   "version": "3.9.7"
  }
 },
 "nbformat": 4,
 "nbformat_minor": 5
}
