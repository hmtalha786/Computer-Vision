{
 "cells": [
  {
   "cell_type": "code",
   "execution_count": null,
   "id": "4299bbc4",
   "metadata": {},
   "outputs": [],
   "source": [
    "import cv2\n",
    "import numpy as np"
   ]
  },
  {
   "cell_type": "code",
   "execution_count": null,
   "id": "3787e83b",
   "metadata": {},
   "outputs": [],
   "source": [
    "image = cv2.imread(\"red_panda.jpg\")"
   ]
  },
  {
   "cell_type": "code",
   "execution_count": null,
   "id": "4617f9e5",
   "metadata": {},
   "outputs": [],
   "source": [
    "shape = image.shape"
   ]
  },
  {
   "cell_type": "code",
   "execution_count": null,
   "id": "55c5ab7c",
   "metadata": {},
   "outputs": [],
   "source": [
    "blue = (255, 0, 0)\n",
    "\n",
    "cv2.line(image, (50, 30), (450, 35), blue, thickness=5)"
   ]
  },
  {
   "cell_type": "code",
   "execution_count": null,
   "id": "6b52db2c",
   "metadata": {},
   "outputs": [],
   "source": [
    "red = (0, 0, 255)\n",
    "\n",
    "cv2.circle(image, (240, 205), 23, red, -1)"
   ]
  },
  {
   "cell_type": "code",
   "execution_count": null,
   "id": "c1d901ec",
   "metadata": {},
   "outputs": [],
   "source": [
    "green = (0, 255, 0)\n",
    "\n",
    "cv2.rectangle(image, (50, 60), (450, 95), green, -1)"
   ]
  },
  {
   "cell_type": "code",
   "execution_count": null,
   "id": "ef90158f",
   "metadata": {},
   "outputs": [],
   "source": [
    "violet = (180, 0, 180)\n",
    "\n",
    "cv2.ellipse(image, (250, 150), (80, 20), 5, 0, 360, violet, -1)"
   ]
  },
  {
   "cell_type": "code",
   "execution_count": null,
   "id": "9d80f618",
   "metadata": {},
   "outputs": [],
   "source": [
    "yellow = (0, 180, 180)\n",
    "\n",
    "points = np.array([[[140, 230], [380, 230], [320, 250], [250, 280]]], np.int32)\n",
    "\n",
    "cv2.polylines(image, [points], True, yellow, thickness=3)"
   ]
  },
  {
   "cell_type": "code",
   "execution_count": null,
   "id": "c1b363b3",
   "metadata": {},
   "outputs": [],
   "source": [
    "white = (255, 255, 255)\n",
    "\n",
    "font = cv2.FONT_HERSHEY_COMPLEX\n",
    "\n",
    "cv2.putText(image, \"Panda\", (20, 180), font, 4, white)"
   ]
  },
  {
   "cell_type": "code",
   "execution_count": null,
   "id": "50e57979",
   "metadata": {},
   "outputs": [],
   "source": [
    "cv2.imshow(\"red panda\", image)\n",
    "cv2.waitKey(0)\n",
    "cv2.destroyAllWindows()"
   ]
  }
 ],
 "metadata": {
  "kernelspec": {
   "display_name": "Python 3 (ipykernel)",
   "language": "python",
   "name": "python3"
  },
  "language_info": {
   "codemirror_mode": {
    "name": "ipython",
    "version": 3
   },
   "file_extension": ".py",
   "mimetype": "text/x-python",
   "name": "python",
   "nbconvert_exporter": "python",
   "pygments_lexer": "ipython3",
   "version": "3.9.7"
  }
 },
 "nbformat": 4,
 "nbformat_minor": 5
}
