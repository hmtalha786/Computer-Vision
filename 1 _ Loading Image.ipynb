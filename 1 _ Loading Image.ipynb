{
 "cells": [
  {
   "cell_type": "markdown",
   "id": "b2156e83",
   "metadata": {},
   "source": [
    "##### Import OpenCV Library"
   ]
  },
  {
   "cell_type": "code",
   "execution_count": 1,
   "id": "44aa1db6",
   "metadata": {},
   "outputs": [],
   "source": [
    "import cv2"
   ]
  },
  {
   "cell_type": "markdown",
   "id": "39cfd9f4",
   "metadata": {},
   "source": [
    "##### Read image from same directory"
   ]
  },
  {
   "cell_type": "code",
   "execution_count": 2,
   "id": "76fe2e1a",
   "metadata": {},
   "outputs": [],
   "source": [
    "image = cv2.imread(\"red_panda.jpg\")"
   ]
  },
  {
   "cell_type": "markdown",
   "id": "78a4fd92",
   "metadata": {},
   "source": [
    "##### Convert image to gray scale"
   ]
  },
  {
   "cell_type": "code",
   "execution_count": 3,
   "id": "2e8a673d",
   "metadata": {},
   "outputs": [],
   "source": [
    "gray_image = cv2.cvtColor(image, cv2.COLOR_BGR2GRAY)"
   ]
  },
  {
   "cell_type": "markdown",
   "id": "94b10b78",
   "metadata": {},
   "source": [
    "##### Show original and gray scale image"
   ]
  },
  {
   "cell_type": "code",
   "execution_count": 4,
   "id": "eb01846a",
   "metadata": {},
   "outputs": [],
   "source": [
    "cv2.imshow(\"Gray panda\", gray_image)\n",
    "cv2.imshow(\"Red panda\", image)"
   ]
  },
  {
   "cell_type": "markdown",
   "id": "14da4e86",
   "metadata": {},
   "source": [
    "##### Save image locally"
   ]
  },
  {
   "cell_type": "code",
   "execution_count": 5,
   "id": "c128f746",
   "metadata": {},
   "outputs": [
    {
     "data": {
      "text/plain": [
       "True"
      ]
     },
     "execution_count": 5,
     "metadata": {},
     "output_type": "execute_result"
    }
   ],
   "source": [
    "cv2.imwrite(\"gray_panda.jpg\", gray_image)"
   ]
  },
  {
   "cell_type": "markdown",
   "id": "c9c971da",
   "metadata": {},
   "source": [
    "##### Hold the images screen till any key press"
   ]
  },
  {
   "cell_type": "code",
   "execution_count": 6,
   "id": "d65ba4ab",
   "metadata": {},
   "outputs": [],
   "source": [
    "cv2.waitKey(0)\n",
    "cv2.destroyAllWindows()"
   ]
  }
 ],
 "metadata": {
  "kernelspec": {
   "display_name": "Python 3 (ipykernel)",
   "language": "python",
   "name": "python3"
  },
  "language_info": {
   "codemirror_mode": {
    "name": "ipython",
    "version": 3
   },
   "file_extension": ".py",
   "mimetype": "text/x-python",
   "name": "python",
   "nbconvert_exporter": "python",
   "pygments_lexer": "ipython3",
   "version": "3.9.7"
  }
 },
 "nbformat": 4,
 "nbformat_minor": 5
}
