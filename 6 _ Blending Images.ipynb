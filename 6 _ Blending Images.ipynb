{
 "cells": [
  {
   "cell_type": "code",
   "execution_count": 1,
   "id": "8ddcd04e",
   "metadata": {},
   "outputs": [],
   "source": [
    "import cv2\n",
    "import numpy as np"
   ]
  },
  {
   "cell_type": "code",
   "execution_count": 2,
   "id": "db8f4c4a",
   "metadata": {},
   "outputs": [],
   "source": [
    "img1 = cv2.imread(\"Road.jpg\")\n",
    "img2 = cv2.imread(\"Car.jpg\")\n",
    "img2_gray = cv2.cvtColor(img2, cv2.COLOR_BGR2GRAY)"
   ]
  },
  {
   "cell_type": "code",
   "execution_count": 3,
   "id": "b3f5ebd0",
   "metadata": {},
   "outputs": [],
   "source": [
    "ret, mask = cv2.threshold(img2_gray, 240, 255, cv2.THRESH_BINARY)\n",
    "mask_inv = cv2.bitwise_not(mask)"
   ]
  },
  {
   "cell_type": "code",
   "execution_count": 4,
   "id": "9ca389aa",
   "metadata": {},
   "outputs": [],
   "source": [
    "road = cv2.bitwise_and(img1, img1, mask=mask)\n",
    "car = cv2.bitwise_and(img2, img2, mask=mask_inv)\n",
    "result = cv2.add(road, car)"
   ]
  },
  {
   "cell_type": "code",
   "execution_count": 5,
   "id": "abda1b6b",
   "metadata": {},
   "outputs": [],
   "source": [
    "cv2.imshow(\"img1\", img1)\n",
    "cv2.imshow(\"img2\", img2)\n",
    "cv2.imshow(\"road background\", road)\n",
    "cv2.imshow(\"car no background\", car)\n",
    "cv2.imshow(\"mask\", mask)"
   ]
  },
  {
   "cell_type": "code",
   "execution_count": 6,
   "id": "7371f87b",
   "metadata": {},
   "outputs": [],
   "source": [
    "cv2.imshow(\"mask inverse\", mask_inv)\n",
    "cv2.imshow(\"result\", result)\n",
    "cv2.waitKey(0)\n",
    "cv2.destroyAllWindows()"
   ]
  }
 ],
 "metadata": {
  "kernelspec": {
   "display_name": "Python 3 (ipykernel)",
   "language": "python",
   "name": "python3"
  },
  "language_info": {
   "codemirror_mode": {
    "name": "ipython",
    "version": 3
   },
   "file_extension": ".py",
   "mimetype": "text/x-python",
   "name": "python",
   "nbconvert_exporter": "python",
   "pygments_lexer": "ipython3",
   "version": "3.9.7"
  }
 },
 "nbformat": 4,
 "nbformat_minor": 5
}
