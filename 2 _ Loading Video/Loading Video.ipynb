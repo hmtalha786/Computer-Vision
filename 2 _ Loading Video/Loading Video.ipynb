{
 "cells": [
  {
   "cell_type": "markdown",
   "id": "22172c55",
   "metadata": {},
   "source": [
    "##### Read from Webcam"
   ]
  },
  {
   "cell_type": "code",
   "execution_count": null,
   "id": "86cc92b6",
   "metadata": {},
   "outputs": [],
   "source": [
    "import cv2\n",
    "import numpy as np"
   ]
  },
  {
   "cell_type": "code",
   "execution_count": null,
   "id": "94e4c6f0",
   "metadata": {},
   "outputs": [],
   "source": [
    "cap = cv2.VideoCapture(0)"
   ]
  },
  {
   "cell_type": "code",
   "execution_count": null,
   "id": "38a3a07d",
   "metadata": {},
   "outputs": [],
   "source": [
    "while True:\n",
    "    ret, frame = cap.read()\n",
    "   \n",
    "    cv2.imshow(\"frame\", frame)\n",
    "    \n",
    "    key = cv2.waitKey(1)\n",
    "    if key == 27:\n",
    "        break\n",
    "cap.release()\n",
    "cv2.destroyAllWindows()"
   ]
  },
  {
   "cell_type": "markdown",
   "id": "8cc73aec",
   "metadata": {},
   "source": [
    "##### Read from File"
   ]
  },
  {
   "cell_type": "code",
   "execution_count": null,
   "id": "83c9c575",
   "metadata": {},
   "outputs": [],
   "source": [
    "import cv2\n",
    "import numpy as np"
   ]
  },
  {
   "cell_type": "code",
   "execution_count": null,
   "id": "25ae899d",
   "metadata": {},
   "outputs": [],
   "source": [
    "cap = cv2.VideoCapture(\"red_panda_snow.mp4\")"
   ]
  },
  {
   "cell_type": "code",
   "execution_count": null,
   "id": "a9356146",
   "metadata": {},
   "outputs": [],
   "source": [
    "while True:\n",
    "    ret, frame = cap.read()\n",
    "   \n",
    "    cv2.imshow(\"frame\", frame)\n",
    "    \n",
    "    key = cv2.waitKey(25)\n",
    "    if key == 27:\n",
    "        break\n",
    "cap.release()\n",
    "cv2.destroyAllWindows()"
   ]
  },
  {
   "cell_type": "markdown",
   "id": "96e2c85a",
   "metadata": {},
   "source": [
    "##### Read video from file and Save it to file"
   ]
  },
  {
   "cell_type": "code",
   "execution_count": null,
   "id": "8aece018",
   "metadata": {},
   "outputs": [],
   "source": [
    "import cv2\n",
    "import numpy as np"
   ]
  },
  {
   "cell_type": "code",
   "execution_count": null,
   "id": "c4adf8b4",
   "metadata": {},
   "outputs": [],
   "source": [
    "cap = cv2.VideoCapture(\"red_panda_snow.mp4\")\n",
    "fourcc = cv2.VideoWriter_fourcc(*\"XVID\")\n",
    "out = cv2.VideoWriter(\"flipped_red_panda.avi\", fourcc, 25, (640, 360))"
   ]
  },
  {
   "cell_type": "code",
   "execution_count": null,
   "id": "4c65cd36",
   "metadata": {},
   "outputs": [],
   "source": [
    "while True:\n",
    "    ret, frame = cap.read()\n",
    "    frame2 = cv2.flip(frame, 1)\n",
    "    \n",
    "    cv2.imshow(\"frame2\", frame2)\n",
    "    cv2.imshow(\"frame\", frame)\n",
    "    \n",
    "    out.write(frame2)\n",
    "    \n",
    "    key = cv2.waitKey(25)\n",
    "    if key == 27:\n",
    "        break\n",
    "out.release()\n",
    "cap.release()\n",
    "cv2.destroyAllWindows()"
   ]
  }
 ],
 "metadata": {
  "kernelspec": {
   "display_name": "Python 3 (ipykernel)",
   "language": "python",
   "name": "python3"
  },
  "language_info": {
   "codemirror_mode": {
    "name": "ipython",
    "version": 3
   },
   "file_extension": ".py",
   "mimetype": "text/x-python",
   "name": "python",
   "nbconvert_exporter": "python",
   "pygments_lexer": "ipython3",
   "version": "3.9.7"
  }
 },
 "nbformat": 4,
 "nbformat_minor": 5
}
